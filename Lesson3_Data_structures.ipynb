{
 "cells": [
  {
   "cell_type": "markdown",
   "id": "6a71275f",
   "metadata": {},
   "source": [
    "# Структуры данных"
   ]
  },
  {
   "cell_type": "markdown",
   "id": "34a1aa8d",
   "metadata": {},
   "source": [
    "Основными структурами данных принято считать Стек, Дек и Очередь, кучу, бинарное дерево и декартовы деревья. В этот раз мы рассмотрим Стек, Дек и Очередь."
   ]
  },
  {
   "cell_type": "markdown",
   "id": "3dfb6b97",
   "metadata": {},
   "source": [
    "## Queue(Очередь)"
   ]
  },
  {
   "cell_type": "markdown",
   "id": "e045668a",
   "metadata": {},
   "source": [
    "Что такое очередь? Очередь - это структура данных, в которой элементы кладутся в конец, а извлекаются из начала."
   ]
  },
  {
   "cell_type": "markdown",
   "id": "bd5a9812",
   "metadata": {},
   "source": [
    "Таким образом, первым из очереди будет извлечен тот элемент, который добавлен раньше остальных. Пример: очередь в поликлиннике. Первый пришел - первый ушел. А кто пришел последним, сидит и ждет, пока вызовут предыдущих."
   ]
  },
  {
   "cell_type": "markdown",
   "id": "d2b386b9",
   "metadata": {},
   "source": [
    "А что там по реализации? Есть несколько способов в Python реализовать Очередь. "
   ]
  },
  {
   "cell_type": "markdown",
   "id": "812ced77",
   "metadata": {},
   "source": [
    "Первый, он же самый простой, это извлечь класс из готовой библиотеки и наслаждаться жизнью. Пример:"
   ]
  },
  {
   "cell_type": "code",
   "execution_count": 5,
   "id": "47595484",
   "metadata": {},
   "outputs": [
    {
     "name": "stdout",
     "output_type": "stream",
     "text": [
      "queue size: 3\n",
      "Client_1\n",
      "Client_2\n",
      "Client_3\n",
      "queue is empty?: True\n"
     ]
    }
   ],
   "source": [
    "from queue import Queue\n",
    "\n",
    "q = Queue()\n",
    "\n",
    "q.put('Client_1')\n",
    "q.put('Client_2')\n",
    "q.put('Client_3')\n",
    "\n",
    "print(f\"queue size: {q.qsize()}\")\n",
    "for i in range(q.qsize()):\n",
    "    print(q.get())\n",
    "print('queue is empty?:', q.empty())"
   ]
  },
  {
   "cell_type": "raw",
   "id": "3ac77e00",
   "metadata": {},
   "source": [
    "Как видно из примера, очередь выдала клиентов в порядке очереди, в которой они добавлялись.  Немного о методах: \n",
    "put() - положить в очередь элемент,\n",
    "get() - изъять из очереди элемент,\n",
    "qsize() - количество элементов в очереди,\n",
    "empty() - является очередь пустой? Если да, то возвращает True, иначе False\n"
   ]
  },
  {
   "cell_type": "markdown",
   "id": "2b4e0178",
   "metadata": {},
   "source": [
    "Теперь посмотрим на очередь с приоритетом. Это та же самая очередь, только с тем исключением, что каждому элементу ставится свой приоритет. Аналогия та же, что с поликлиникой, только теперь появляются в очереди беременные женщины, мамы с детьми и пожилые люди, которые имеют больший приоритет на приеме ко врачу. "
   ]
  },
  {
   "cell_type": "code",
   "execution_count": 9,
   "id": "ad2a87fd",
   "metadata": {},
   "outputs": [
    {
     "name": "stdout",
     "output_type": "stream",
     "text": [
      "(1, 'Pregnant woman')\n",
      "(2, 'Client with a young child')\n",
      "(3, 'elderly client')\n",
      "(4, 'Client_1')\n"
     ]
    }
   ],
   "source": [
    "from queue import PriorityQueue\n",
    "\n",
    "q = PriorityQueue()\n",
    "q.put((4,'Client_1'))\n",
    "q.put((1, 'Pregnant woman'))\n",
    "q.put((2, 'Client with a young child'))\n",
    "q.put((3, 'elderly client'))\n",
    "\n",
    "for i in range(q.qsize()):\n",
    "    print(q.get())"
   ]
  },
  {
   "cell_type": "markdown",
   "id": "9bde49ef",
   "metadata": {},
   "source": [
    "Далее рассмотрим способ создания очереди через списки:"
   ]
  },
  {
   "cell_type": "code",
   "execution_count": 10,
   "id": "b8a9301e",
   "metadata": {},
   "outputs": [
    {
     "name": "stdout",
     "output_type": "stream",
     "text": [
      "cat\n",
      "dog\n",
      "rabbit\n"
     ]
    }
   ],
   "source": [
    "q = []\n",
    "\n",
    "q.append('cat')\n",
    "q.append('dog')\n",
    "q.append('rabbit')\n",
    "\n",
    "for i in range(len(q)):\n",
    "    print(q.pop(0))"
   ]
  },
  {
   "cell_type": "markdown",
   "id": "c1aad575",
   "metadata": {},
   "source": [
    "Комментировать особо нечего. Также добавляем элементы, на этот раз методом append() и извлекаем с удалением элементы, начиная с первого методом pop(0), где 0 - указатель на первый элемент списка(очереди). "
   ]
  },
  {
   "cell_type": "markdown",
   "id": "e3b783d2",
   "metadata": {},
   "source": [
    "Ну и напоследок бахнем свою реализацию класса очереди:"
   ]
  },
  {
   "cell_type": "code",
   "execution_count": 11,
   "id": "9492e9d5",
   "metadata": {},
   "outputs": [
    {
     "name": "stdout",
     "output_type": "stream",
     "text": [
      "element_0\n",
      "element_1\n",
      "element_2\n",
      "element_3\n",
      "queue is Empty? True\n"
     ]
    }
   ],
   "source": [
    "class Queue:\n",
    "    def __init__(self): # инициализация полей класса\n",
    "        self.m_elems = [] # у экземпляра класса создаем пустой список\n",
    "    \n",
    "    def push(self,elem): # добавление нового элемента\n",
    "        self.m_elems.insert(0,elem)\n",
    "    def get(self): # возвращение первого поступившего в очередь элемента\n",
    "        return self.m_elems.pop()\n",
    "    def size(self): # возвращение размера очереди\n",
    "        return len(self.m_elems)\n",
    "    def isempty(self):\n",
    "        if len(self.m_elems) !=0:\n",
    "            return False\n",
    "        return True\n",
    "q = Queue()\n",
    "for i in range(4):\n",
    "    q.push(f\"element_{i}\") #вводим элементы в нашу очередь\n",
    "    \n",
    "for i in range(q.size()):\n",
    "    print(q.get())\n",
    "print(\"queue is Empty?\", q.isempty())"
   ]
  },
  {
   "cell_type": "markdown",
   "id": "b8831022",
   "metadata": {},
   "source": [
    "## Стек (Stack)"
   ]
  },
  {
   "cell_type": "markdown",
   "id": "56cab1ca",
   "metadata": {},
   "source": [
    "С очередью разобрались, идем дальше. Стек - это структура данных, в которой элементы извлекаются в обратном порядке.\n"
   ]
  },
  {
   "cell_type": "markdown",
   "id": "6f2adfa4",
   "metadata": {},
   "source": [
    "Например, если класть на стол стопку книг одну за другой, то, доставая книги сверху, вы возьмете впервую очередь книгу, которую положили последней. "
   ]
  },
  {
   "cell_type": "markdown",
   "id": "067f6aad",
   "metadata": {},
   "source": [
    "Вариантов реализации стека в python также несколько. Мы же рассмотрим только две."
   ]
  },
  {
   "cell_type": "markdown",
   "id": "b3b6620b",
   "metadata": {},
   "source": [
    "Начнем, с готовой библиотеки. deque - это сокращение от Double Ended Queue. Это обобщенная очередь, которая может получить первый или последний сохраненный элемент. "
   ]
  },
  {
   "cell_type": "code",
   "execution_count": 14,
   "id": "294fdaa2",
   "metadata": {},
   "outputs": [
    {
     "name": "stdout",
     "output_type": "stream",
     "text": [
      "Element_4\n",
      "Element_3\n",
      "Element_2\n",
      "Element_1\n",
      "Element_0\n"
     ]
    }
   ],
   "source": [
    "from collections import deque\n",
    "\n",
    "stack = deque()\n",
    "\n",
    "for i in range(5):\n",
    "    stack.append(f\"Element_{i}\")\n",
    "\n",
    "for i in range(len(stack)):\n",
    "    print(stack.pop())\n"
   ]
  },
  {
   "cell_type": "markdown",
   "id": "9e39b4ca",
   "metadata": {},
   "source": [
    "Как видно из примера, элемент, добавленный последним, был выведен первым. Про методы deque() поговорим позднее, когда будем рассматривать непосредственно структуру данных дек."
   ]
  },
  {
   "cell_type": "markdown",
   "id": "c1acfed0",
   "metadata": {},
   "source": [
    "А сейчас, реализуем свой класс Stack:"
   ]
  },
  {
   "cell_type": "code",
   "execution_count": 18,
   "id": "a48fda34",
   "metadata": {},
   "outputs": [
    {
     "name": "stdout",
     "output_type": "stream",
     "text": [
      "element_4\n",
      "element_3\n",
      "element_2\n",
      "element_1\n"
     ]
    }
   ],
   "source": [
    "class Stack:\n",
    "    def __init__(self):\n",
    "        self.stack = []\n",
    "    def push(self,elem):\n",
    "        self.stack.append(elem)\n",
    "    def pop(self):\n",
    "        if len(self.stack)  == 0:\n",
    "            return None\n",
    "        removed = self.stack.pop()\n",
    "        return removed\n",
    "    def size(self):\n",
    "        return len(self.stack)\n",
    "stack = Stack()\n",
    "\n",
    "for i in range(4):\n",
    "    stack.push(f\"element_{i+1}\")\n",
    "    \n",
    "for i in range(stack.size()):\n",
    "    print(stack.pop())"
   ]
  },
  {
   "cell_type": "markdown",
   "id": "5565c510",
   "metadata": {},
   "source": [
    "Всё по аналогии с очередью, за тем исключением, что мы извлекаем элементы из конца массива."
   ]
  },
  {
   "cell_type": "markdown",
   "id": "e872da20",
   "metadata": {},
   "source": [
    "## Дек (Deque)"
   ]
  },
  {
   "cell_type": "markdown",
   "id": "371314d8",
   "metadata": {},
   "source": [
    "Дек - структура данных, в которой можно добавлять и удалять элементы как в начале, так и в конце."
   ]
  },
  {
   "cell_type": "markdown",
   "id": "b708a649",
   "metadata": {},
   "source": [
    "В качестве примера, можно рассмотреть продольную пачку ментоса. Вы можете взять ментос из начала или из конца, также как и добавить вкусняшку в начало или в конец упаковки. Но с элементами посередине вы не можете взаимодействовать, пока не извлечете предыдущие."
   ]
  },
  {
   "cell_type": "markdown",
   "id": "49348bdc",
   "metadata": {},
   "source": [
    "В данной структуре, мы рассмотрим только работу готовой библиотеки. Отдельный класс Дек выглядит как объединение классов стека и очереди."
   ]
  },
  {
   "cell_type": "code",
   "execution_count": 21,
   "id": "c752992f",
   "metadata": {},
   "outputs": [
    {
     "name": "stdout",
     "output_type": "stream",
     "text": [
      "element left Element_left\n",
      "element right: Element_2\n",
      "element left Element_0\n",
      "element right: Element_1\n"
     ]
    }
   ],
   "source": [
    "from collections import deque\n",
    "\n",
    "dq = deque()\n",
    "\n",
    "for i in range(3):\n",
    "    dq.append(f\"Element_{i}\") # Добавление элемента\n",
    "\n",
    "dq.appendleft(f\"Element_left\") # Добавление элемента в начало\n",
    "\n",
    "for i in range(len(dq)):\n",
    "    if len(dq) !=0:\n",
    "        print(\"element left\", dq.popleft())\n",
    "        print(\"element right:\",dq.pop())\n"
   ]
  },
  {
   "cell_type": "markdown",
   "id": "3156c4f1",
   "metadata": {},
   "source": [
    "Однако, в отличие от очереди, в которой метод get() можно было вызывать при отсутствие элементов, в Деке выдаст ошибку IndexError:"
   ]
  },
  {
   "cell_type": "code",
   "execution_count": 22,
   "id": "a1460b1a",
   "metadata": {},
   "outputs": [
    {
     "ename": "IndexError",
     "evalue": "pop from an empty deque",
     "output_type": "error",
     "traceback": [
      "\u001b[0;31m---------------------------------------------------------------------------\u001b[0m",
      "\u001b[0;31mIndexError\u001b[0m                                Traceback (most recent call last)",
      "Cell \u001b[0;32mIn[22], line 1\u001b[0m\n\u001b[0;32m----> 1\u001b[0m \u001b[43mdq\u001b[49m\u001b[38;5;241;43m.\u001b[39;49m\u001b[43mpop\u001b[49m\u001b[43m(\u001b[49m\u001b[43m)\u001b[49m\n",
      "\u001b[0;31mIndexError\u001b[0m: pop from an empty deque"
     ]
    }
   ],
   "source": [
    "dq.pop()"
   ]
  },
  {
   "cell_type": "markdown",
   "id": "8522fc29",
   "metadata": {},
   "source": [
    "Выше продемонстрирована данная ошибка. Итак, теперь рассмотрим методы Дека!"
   ]
  },
  {
   "cell_type": "raw",
   "id": "bb8ebb8c",
   "metadata": {},
   "source": [
    "Методы:\n",
    " - append(x) - добавление элемента\n",
    " - appendleft(x) - добавление элемента в начало контейнера Дек\n",
    " - copy() - копирование дека в другую переменную\n",
    " - clear() - удалить все элементы из дека\n",
    " - count(x) - подсчитывание количества элементов, равных x\n",
    " - extend(iterable) - расширение правой части дека, добавляя элементы аргумента iterable\n",
    " - index(x) - возврат индекса первого совпадения значения аргумента x в контейнере дек.\n",
    " - insert(i,x) - вставка значения x в позицию i контейнера Дек."
   ]
  },
  {
   "cell_type": "markdown",
   "id": "d9e53a0b",
   "metadata": {},
   "source": [
    "Несколько примеров, как использовать некоторые из данных методов:"
   ]
  },
  {
   "cell_type": "code",
   "execution_count": 31,
   "id": "7aee50c7",
   "metadata": {},
   "outputs": [
    {
     "name": "stdout",
     "output_type": "stream",
     "text": [
      "first deque([0, 1, 2, 3])\n",
      "second: deque([0, 1, 2, 3, 1, 2, 3, 4])\n",
      "x in deque occurs: 2\n",
      "deque([0, 1, 2, 100, 3, 1, 2, 3, 4])\n"
     ]
    }
   ],
   "source": [
    "deq = deque()\n",
    "\n",
    "for i in range(4):\n",
    "    deq.append(i)    \n",
    "print(\"first\",deq)\n",
    "\n",
    "deq.extend([1,2,3,4])\n",
    "print(\"second:\",deq)\n",
    "print(\"x in deque occurs:\", deq.count(2))\n",
    "deq.insert(3,100)\n",
    "print(deq)"
   ]
  },
  {
   "cell_type": "markdown",
   "id": "1362a80e",
   "metadata": {},
   "source": [
    "## Выводы"
   ]
  },
  {
   "cell_type": "markdown",
   "id": "e12d4bcd",
   "metadata": {},
   "source": [
    "Сегодня мы разобрали структуры данных Стек, Дек и Очередь. В следующий раз рассмотрим структуры данных кучи, бинарного дерева и декартового дерева. На этом, пожалуй, закончим."
   ]
  }
 ],
 "metadata": {
  "kernelspec": {
   "display_name": "Python 3 (ipykernel)",
   "language": "python",
   "name": "python3"
  },
  "language_info": {
   "codemirror_mode": {
    "name": "ipython",
    "version": 3
   },
   "file_extension": ".py",
   "mimetype": "text/x-python",
   "name": "python",
   "nbconvert_exporter": "python",
   "pygments_lexer": "ipython3",
   "version": "3.10.6"
  }
 },
 "nbformat": 4,
 "nbformat_minor": 5
}
